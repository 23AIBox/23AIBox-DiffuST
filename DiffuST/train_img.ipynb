{
 "cells": [
  {
   "cell_type": "code",
   "execution_count": 1,
   "id": "0c98295a-41cd-4bed-bb68-a3c6a6ac0d54",
   "metadata": {},
   "outputs": [
    {
     "name": "stderr",
     "output_type": "stream",
     "text": [
      "/home/sqjiao/.conda/envs/IDDPM/lib/python3.10/site-packages/tqdm/auto.py:21: TqdmWarning: IProgress not found. Please update jupyter and ipywidgets. See https://ipywidgets.readthedocs.io/en/stable/user_install.html\n",
      "  from .autonotebook import tqdm as notebook_tqdm\n",
      "/home/sqjiao/.conda/envs/IDDPM/lib/python3.10/site-packages/torchvision/io/image.py:13: UserWarning: Failed to load image Python extension: libc10_cuda.so: cannot open shared object file: No such file or directory\n",
      "  warn(f\"Failed to load image Python extension: {e}\")\n"
     ]
    }
   ],
   "source": [
    "from vit_pytorch import ViT\n",
    "from skimage import io, img_as_float32, morphology, exposure\n",
    "from PIL import Image\n",
    "from torchvision import transforms\n",
    "from pathlib import Path\n",
    "from tqdm import tqdm\n",
    "import timm\n",
    "import scanpy as sc\n",
    "import os\n",
    "import numpy as np\n",
    "import torch\n",
    "import torch.nn as nn\n",
    "from torch import optim\n",
    "import time\n",
    "import anndata\n",
    "import pandas as pd\n",
    "import scipy.stats as st\n",
    "import matplotlib.pyplot as plt\n",
    "import json"
   ]
  },
  {
   "cell_type": "code",
   "execution_count": 2,
   "id": "e6f2c0c5-971f-443c-9e99-27d7f6eea2a0",
   "metadata": {},
   "outputs": [],
   "source": [
    "from preprocess import preprocess,get_feature"
   ]
  },
  {
   "cell_type": "code",
   "execution_count": 3,
   "id": "45692efb-6595-40d2-abfa-d6500f7b4228",
   "metadata": {},
   "outputs": [],
   "source": [
    "device = torch.device(\"cuda:0\") if torch.cuda.is_available() else torch.device(\"cpu\")"
   ]
  },
  {
   "cell_type": "code",
   "execution_count": null,
   "id": "29327dca-8279-45a0-a40f-f8ac426d532f",
   "metadata": {},
   "outputs": [],
   "source": [
    "data_path = '../data/human_breast_cancer'\n",
    "count_file = 'V1_Breast_Cancer_Block_A_Section_1_filtered_feature_bc_matrix.h5'\n",
    "source_image_path = 'V1_Breast_Cancer_Block_A_Section_1_image.tif'\n",
    "\n",
    "# data_path = '../data/human_ovarian_cancer_target'\n",
    "# count_file = 'Targeted_Visium_Human_OvarianCancer_Pan_Cancer_filtered_feature_bc_matrix.h5'\n",
    "# source_image_path = 'Targeted_Visium_Human_OvarianCancer_Pan_Cancer_image.tif'\n",
    "\n",
    "\n",
    "adata = sc.read_visium(data_path,\n",
    "           count_file= count_file\n",
    "           ,source_image_path = source_image_path\n",
    "          )\n",
    "adata.var_names_make_unique()\n",
    "#preprocess data\n",
    "if 'highly_variable' not in adata.var.keys():\n",
    "    preprocess(adata)\n",
    "if 'feat' not in adata.obsm.keys():\n",
    "    get_feature(adata)"
   ]
  },
  {
   "cell_type": "code",
   "execution_count": 4,
   "id": "3ae0839b-dfc8-474d-9edd-fbbe2a31349d",
   "metadata": {},
   "outputs": [],
   "source": [
    "# data_path = '../data/HCC-1L/spatial'\n",
    "# source_image_path = 'tissue_hires_image.png'\n",
    "\n",
    "data_path = '../data/ST-colon3/spatial'\n",
    "source_image_path = 'tissue_hires_image.png'\n",
    "\n",
    "# data_path = '../data/HT231P1'\n",
    "# source_image_path = 'A1-HT231P1-S1H3Fc2U1.tif'\n",
    "\n",
    "# matrix_file = '../data/HT231P1/filtered_feature_bc_matrix/'\n",
    "# # Read the files and create an AnnData object\n",
    "# adata = sc.read_10x_mtx(matrix_file, var_names='gene_symbols', cache=True)\n",
    "# adata.var_names_make_unique()\n",
    "\n",
    "# # Replace with the actual path to your spatial coordinates file\n",
    "# spatial_coordinates_file = '../data/HT231P1/spatial/tissue_positions_list.csv'\n",
    "\n",
    "# # # Read spatial coordinates\n",
    "# spatial_coordinates = pd.read_csv(spatial_coordinates_file,header=None, index_col=0)\n",
    "# column_names = ['in_tissue','array_col','array_row','x','y']  # Replace with your actual column names\n",
    "# spatial_coordinates.columns = column_names\n",
    "# spatial_coordinates = spatial_coordinates.reindex(adata.obs_names)\n",
    "# # Add spatial coordinates to adata\n",
    "# adata.obs['in_tissue'] = spatial_coordinates['in_tissue']\n",
    "# adata.obs['array_col'] = spatial_coordinates['array_col']\n",
    "# adata.obs['array_row'] = spatial_coordinates['array_row']\n",
    "# adata.obs['x'] = spatial_coordinates['x']\n",
    "# adata.obs['y'] = spatial_coordinates['y']\n",
    "# spatial_array = spatial_coordinates[['y', 'x']].values\n",
    "\n",
    "# # Assign the spatial array to adata.obsm['spatial']\n",
    "# adata.obsm['spatial'] = spatial_array \n",
    "# adata = adata[adata.obs['in_tissue']==1,:]\n",
    "# # 从 TIF 图像加载空间信息\n",
    "# spatial_image = io.imread('../data/HT231P1/A1-HT231P1-S1H3Fc2U1.tif')\n",
    "# with open('../data/HT231P1/spatial/scalefactors_json.json', 'r') as f:\n",
    "#     scale_factors = json.load(f)\n",
    "# #preprocess data\n",
    "# if 'highly_variable' not in adata.var.keys():\n",
    "#     preprocess(adata)\n",
    "# if 'feat' not in adata.obsm.keys():\n",
    "#     get_feature(adata)"
   ]
  },
  {
   "cell_type": "code",
   "execution_count": 5,
   "id": "9f8d981b-d6de-4559-bca2-f5300cf43d16",
   "metadata": {},
   "outputs": [
    {
     "name": "stderr",
     "output_type": "stream",
     "text": [
      "/home/sqjiao/.conda/envs/IDDPM/lib/python3.10/site-packages/anndata/_core/anndata.py:1899: UserWarning: Variable names are not unique. To make them unique, call `.var_names_make_unique`.\n",
      "  utils.warn_names_duplicates(\"var\")\n",
      "/home/sqjiao/.conda/envs/IDDPM/lib/python3.10/site-packages/anndata/_core/anndata.py:1899: UserWarning: Variable names are not unique. To make them unique, call `.var_names_make_unique`.\n",
      "  utils.warn_names_duplicates(\"var\")\n",
      "/home/sqjiao/.conda/envs/IDDPM/lib/python3.10/site-packages/scanpy/preprocessing/_highly_variable_genes.py:61: UserWarning: `flavor='seurat_v3'` expects raw count data, but non-integers were found.\n",
      "  warnings.warn(\n"
     ]
    }
   ],
   "source": [
    "adata = sc.read_visium('../data/ST-colon3',\n",
    "           count_file='filtered_feature_bc_matrix.h5'\n",
    "                      )\n",
    "\n",
    "# adata = sc.read_visium('../data/HCC-1L',\n",
    "#            count_file='filtered_feature_bc_matrix.h5'\n",
    "#                       )\n",
    "\n",
    "adata.var_names_make_unique()\n",
    "# #preprocess data\n",
    "if 'highly_variable' not in adata.var.keys():\n",
    "    preprocess(adata)\n",
    "if 'feat' not in adata.obsm.keys():\n",
    "    get_feature(adata)"
   ]
  },
  {
   "cell_type": "code",
   "execution_count": 6,
   "id": "6656cff7-755a-435a-87e0-5c053a19214c",
   "metadata": {},
   "outputs": [],
   "source": [
    "source_image_tif = os.path.join(data_path,source_image_path)\n",
    "save_path = \"./models/ST-colon3/get_img_feature\""
   ]
  },
  {
   "cell_type": "code",
   "execution_count": 7,
   "id": "d69bdc26-a775-4700-8dd2-18717b01553f",
   "metadata": {},
   "outputs": [
    {
     "name": "stderr",
     "output_type": "stream",
     "text": [
      "Tiling image: 100%|██████████ [ time left: 00:00 ]\n"
     ]
    }
   ],
   "source": [
    "def image_crop(\n",
    "        spdata,\n",
    "        source_image_tif,\n",
    "        save_path,\n",
    "        ):\n",
    "    x, y = spdata.obsm['spatial'][:,0],spdata.obsm['spatial'][:,1]\n",
    "\n",
    "\n",
    "    ###################################################################\n",
    "    x = (x * spdata.uns['spatial']['P2_colon']['scalefactors']['tissue_hires_scalef']).astype(int)\n",
    "    y = (y * spdata.uns['spatial']['P2_colon']['scalefactors']['tissue_hires_scalef']).astype(int)\n",
    "\n",
    "    # r = int(spdata.uns['spatial']['P2_colon']['scalefactors']['fiducial_diameter_fullres']//2)\n",
    "    # r = int(scale_factors['fiducial_diameter_fullres']//2)\n",
    "    r = int(spdata.uns['spatial']['P2_colon']['scalefactors']['fiducial_diameter_fullres']*spdata.uns['spatial']['P2_colon']['scalefactors']['tissue_hires_scalef']//2)\n",
    "\n",
    "    ########################################################################\n",
    "    img = io.imread(source_image_tif)\n",
    "    img = img_as_float32(img)\n",
    "    img = (255 * img).astype(\"uint8\")\n",
    "    tile_names = []\n",
    "    i=0\n",
    "    with tqdm(total=len(spdata),\n",
    "              desc=\"Tiling image\",\n",
    "              bar_format=\"{l_bar}{bar} [ time left: {remaining} ]\") as pbar:\n",
    "\n",
    "        for imagecol, imagerow in zip(y, x):\n",
    "            i+=1\n",
    "            imagecol_left = imagecol - r\n",
    "            imagecol_right = imagecol + r\n",
    "            imagerow_down = imagerow - r\n",
    "            imagerow_up = imagerow + r\n",
    "            tile = img[imagecol_left : imagecol_right + 1, imagerow_down : imagerow_up + 1]\n",
    "            spot_mask = morphology.disk(r)\n",
    "            # only use the spot, not the bbox\n",
    "            tile = np.einsum(\"ij,ijk->ijk\", spot_mask, tile)\n",
    "            tile = Image.fromarray(tile[:,:,[0,1,2]])\n",
    "            out_tile = Path(save_path) / (\"spot\"+str(i) + \".png\")\n",
    "            tile_names.append(str(out_tile))\n",
    "            tile.save(out_tile, \"PNG\")\n",
    "            pbar.update(1)\n",
    "\n",
    "    spdata.obs[\"slices_path\"] = tile_names\n",
    "    return spdata\n",
    "    # return spdata\n",
    "adata = image_crop(adata,source_image_tif,save_path)"
   ]
  },
  {
   "cell_type": "code",
   "execution_count": null,
   "id": "40c8b443-c42a-4f3a-9971-69e64eba16e1",
   "metadata": {},
   "outputs": [
    {
     "name": "stderr",
     "output_type": "stream",
     "text": [
      "/home/sqjiao/.conda/envs/IDDPM/lib/python3.10/site-packages/torchvision/transforms/transforms.py:332: UserWarning: Argument 'interpolation' of type int is deprecated since 0.13 and will be removed in 0.15. Please use InterpolationMode enum.\n",
      "  warnings.warn(\n",
      "/home/sqjiao/.conda/envs/IDDPM/lib/python3.10/site-packages/timm/models/_factory.py:114: UserWarning: Mapping deprecated model name vit_base_patch32_224_clip_laion2b to current vit_base_patch32_clip_224.laion2b.\n",
      "  model = create_fn(\n",
      "'(MaxRetryError(\"HTTPSConnectionPool(host='huggingface.co', port=443): Max retries exceeded with url: /laion/CLIP-ViT-B-32-laion2B-s34B-b79K/resolve/main/open_clip_pytorch_model.bin (Caused by ConnectTimeoutError(<urllib3.connection.HTTPSConnection object at 0x7fe68f14cc70>, 'Connection to huggingface.co timed out. (connect timeout=10)'))\"), '(Request ID: e38e1d7d-b494-4220-932e-b6daa52d1f46)')' thrown while requesting HEAD https://huggingface.co/laion/CLIP-ViT-B-32-laion2B-s34B-b79K/resolve/main/open_clip_pytorch_model.bin\n",
      "Extract image feature:  21%|██         [ time left: 2:18:12 ]"
     ]
    }
   ],
   "source": [
    "def extract_image_feat(spdata,save_path,feature_dim=128):\n",
    "\n",
    "    transform = transforms.Compose([\n",
    "        transforms.Resize(224, interpolation=3),\n",
    "        # transforms.CenterCrop(224),\n",
    "        # transforms.RandomHorizontalFlip(),\n",
    "        transforms.ToTensor(),\n",
    "        transforms.Normalize(mean=[0.485, 0.456, 0.406], \n",
    "          std =[0.229, 0.224, 0.225])\n",
    "    ])\n",
    "    model = timm.create_model('vit_base_patch32_224_clip_laion2b',pretrained=True).to(device)\n",
    "    # model = ViT(image_size = 256,patch_size = 32,num_classes = 1000,dim = 1024,depth = 6,heads = 16,mlp_dim = 2048,dropout = 0.1,emb_dropout = 0.1).to(device)\n",
    "    # new_mlp_head = nn.Sequential(*list(model.mlp_head.children())[:-1])\n",
    "    # model.mlp_head = new_mlp_head\n",
    "    model.head = nn.Linear(in_features=768, out_features=128, bias=True).to(device)\n",
    "    for param in model.parameters():\n",
    "        param.requires_grad = False\n",
    "    model.eval()\n",
    "    \n",
    "    image_feature = torch.zeros(spdata.shape[0],feature_dim)\n",
    "\n",
    "    with tqdm(total=len(spdata),\n",
    "          desc=\"Extract image feature\",\n",
    "          bar_format=\"{l_bar}{bar} [ time left: {remaining} ]\",) as pbar:\n",
    "        for i in range(spdata.shape[0]):\n",
    "            spot_slice = Image.open(Path(save_path) / (\"spot\"+str(i+1) + \".png\"))\n",
    "            spot_slice = transform(spot_slice)[None,].to(device)\n",
    "            out = model(spot_slice)\n",
    "            image_feature[i] = out\n",
    "            pbar.update(1)\n",
    "\n",
    "    return image_feature \n",
    "image_feature = extract_image_feat(adata,save_path,feature_dim=128)\n"
   ]
  },
  {
   "cell_type": "code",
   "execution_count": null,
   "id": "cfaf23ef-18ae-462c-82b7-5c9ecd921956",
   "metadata": {},
   "outputs": [],
   "source": [
    "class model_str(nn.Module):\n",
    "    def __init__(self,num_features,hid_features,out_features):\n",
    "        super().__init__()\n",
    "        self.dw=nn.Sequential(\n",
    "                nn.Linear(num_features,hid_features),\n",
    "                nn.ReLU(),\n",
    "                nn.Linear(hid_features,out_features)\n",
    "        )\n",
    "    def forward(self,x):\n",
    "        x=self.dw(x)\n",
    "        return x    "
   ]
  },
  {
   "cell_type": "code",
   "execution_count": null,
   "id": "90ebee0a-1339-4475-80fd-c382f4f67390",
   "metadata": {},
   "outputs": [],
   "source": [
    "num_features = 128\n",
    "hid_features = 512\n",
    "out_features = adata.obsm['feat'].shape[1]\n",
    "lr=0.001 #initial learning rate\n",
    "weight_decay=0 #regularization term\n",
    "epochs = 2000\n",
    "#graph feature\n",
    "features = torch.tensor(adata.obsm['feat'].copy()).to(device)\n",
    "image_feature = image_feature.to(device)\n",
    "\n",
    "model = model_str(num_features,hid_features,out_features).to(device)\n",
    "optimizer = optim.Adam(model.parameters(), lr=lr, weight_decay=weight_decay)"
   ]
  },
  {
   "cell_type": "code",
   "execution_count": null,
   "id": "ddf21646-6cd9-4df9-a8ab-e84d61bfdc0c",
   "metadata": {},
   "outputs": [],
   "source": [
    "def train(epochs):\n",
    "    train_loss_ep=[None]*epochs\n",
    "    for epoch in range(epochs):\n",
    "        # maskedgeres= mask_nodes_edges(features.shape[0],testNodeSize=testNodes,valNodeSize=valNodes,seed=seed)\n",
    "        # train_nodes_idx,val_nodes_idx,test_nodes_idx = maskedgeres\n",
    "        \n",
    "        t = time.time()\n",
    "        model.train()\n",
    "        optimizer.zero_grad()\n",
    "        \n",
    "        \n",
    "\n",
    "        features_recon = model(image_feature)\n",
    "        # loss_x_train=loss_zinb(features_recon, features,XreconWeight,ridgeL)\n",
    "        \n",
    "        loss_function = nn.MSELoss()\n",
    "        loss_r_train=loss_function(features_recon, features)\n",
    "        # loss_x_train = loss_nb(features_recon, features,XreconWeight)\n",
    "        # loss_a_train=loss_CE(adj_recon, adj, pos_weight, norm)\n",
    "\n",
    "        loss=loss_r_train\n",
    "        # loss_kl_train++0.4*loss_r_train+0.1*loss_a_train\n",
    "        loss.backward()\n",
    "        optimizer.step()\n",
    "        train_loss_ep[epoch]=loss.item()\n",
    "        if epoch%200 == 0:\n",
    "            print(' Epoch: {:04d}'.format(epoch),\n",
    "                  'loss_train: {:.4f}'.format(loss.item()),\n",
    "                  'time: {:.4f}s'.format(time.time() - t))\n",
    "            sam = adata.obsm['feat']\n",
    "            com = features_recon.detach().cpu().numpy()\n",
    "            sam = anndata.AnnData(sam,var = adata[:,adata.var['highly_variable']].var)\n",
    "            com = anndata.AnnData(com)\n",
    "            def cal_Percor(original,res):\n",
    "                Pearson_CoPearson_Cor = pd.Series(index=original.obs_names)\n",
    "                for i in range(res.X.shape[0]):\n",
    "                    Pearson_CoPearson_Cor[i]=st.pearsonr(original.X[i],res.X[i])[0]\n",
    "                Pearson_Cor_mean = np.mean(Pearson_CoPearson_Cor)\n",
    "                return Pearson_CoPearson_Cor,Pearson_Cor_mean\n",
    "            our_Percor,our_Percor_mean = cal_Percor(sam,com)\n",
    "\n",
    "            print(our_Percor_mean)\n",
    "        \n",
    "\n",
    "#         if epoch%saveFreq == 0:\n",
    "#             torch.save(model.cpu().state_dict(), os.path.join(modelsavepath,str(epoch)+'.pt'))\n",
    "    # with torch.no_grad():\n",
    "    # torch.save(model.cpu().state_dict(), os.path.join(modelsavepath,'gae.pt'))\n",
    "    model.to(device).eval()\n",
    "\n",
    "    features_recon = model(image_feature)\n",
    "\n",
    "    return train_loss_ep,features_recon"
   ]
  },
  {
   "cell_type": "code",
   "execution_count": null,
   "id": "9ed4c944-2339-4864-babb-5db196adc0b6",
   "metadata": {},
   "outputs": [],
   "source": [
    "t_ep=time.time()\n",
    "train_loss_ep,features_recon=train(epochs)\n",
    "print(' total time: {:.4f}s'.format(time.time() - t_ep))"
   ]
  },
  {
   "cell_type": "code",
   "execution_count": 31,
   "id": "0d8cb8c1-af37-4ba8-b238-fa8fc3068bc7",
   "metadata": {},
   "outputs": [],
   "source": [
    "# image_feature = image_feature.cpu().numpy()\n",
    "# image_save_path = Path('./models/HT231P1/get_img_feature') / (\"image_feature.npy\")\n",
    "# np.save(image_save_path,image_feature)"
   ]
  },
  {
   "cell_type": "code",
   "execution_count": null,
   "id": "84c6b81b-367c-4baa-8596-6d98fe70dd11",
   "metadata": {},
   "outputs": [],
   "source": [
    "#可以做多尺度的生物网络\n",
    "sam = adata.obsm['feat']\n",
    "com = features_recon.detach().cpu().numpy() "
   ]
  },
  {
   "cell_type": "code",
   "execution_count": null,
   "id": "532747e2-7fe8-476f-8e75-4fc0e3d3dd78",
   "metadata": {},
   "outputs": [],
   "source": [
    "plt.style.use('dark_background')\n",
    "for i in range(20):\n",
    "    fig, (ax1, ax2) = plt.subplots(1, 2,figsize=(8,4))\n",
    "    ax1.axis('off')\n",
    "    cmap = sam[:,i]\n",
    "    cmap[cmap > np.percentile(cmap,99)] = np.percentile(cmap,99)\n",
    "    ax1.scatter(adata.obsm['spatial'][:,0],adata.obsm['spatial'][:,1],s=1,c=cmap)\n",
    "    ax1.set_title('Measured ', fontsize = 12)\n",
    "    ax1.set_ylabel(i)\n",
    "    ax1.invert_yaxis()\n",
    "    # ax1.invert_xaxis()\n",
    "    ax2.axis('off')\n",
    "    cmap = com[:,i]\n",
    "    cmap[cmap > np.percentile(cmap,99)] = np.percentile(cmap,99)\n",
    "    ax2.scatter(adata.obsm['spatial'][:,0],adata.obsm['spatial'][:,1],s=1,c=cmap)\n",
    "    ax2.set_title('Predicted ', fontsize = 12)\n",
    "    ax2.invert_yaxis()\n",
    "    # ax2.invert_xaxis()"
   ]
  },
  {
   "cell_type": "code",
   "execution_count": null,
   "id": "99eecea5-e5a1-4de6-8d70-afdaa465093b",
   "metadata": {},
   "outputs": [],
   "source": [
    "sam = anndata.AnnData(sam,var = adata[:,adata.var['highly_variable']].var)\n",
    "com = anndata.AnnData(com)"
   ]
  },
  {
   "cell_type": "code",
   "execution_count": null,
   "id": "9c132deb-9955-4619-afe4-8506b209fba2",
   "metadata": {},
   "outputs": [],
   "source": [
    "import pandas as pd\n",
    "import scipy.stats as st\n",
    "\n",
    "def cal_Percor(original,res):\n",
    "    Pearson_CoPearson_Cor = pd.Series(index=original.var_names)\n",
    "    \n",
    "    for i in range(res.X.shape[1]):\n",
    "        Pearson_CoPearson_Cor[i]=st.pearsonr(original.X.T[i],res.X.T[i])[0]\n",
    "    Pearson_Cor_mean = np.mean(Pearson_CoPearson_Cor)\n",
    "    return Pearson_CoPearson_Cor,Pearson_Cor_mean\n",
    "our_Percor,our_Percor_mean = cal_Percor(sam,com)\n",
    "print(our_Percor_mean)\n",
    "#0.3171313503053768\n",
    "#0.34746957606266593\n",
    "#0.408"
   ]
  },
  {
   "cell_type": "code",
   "execution_count": null,
   "id": "4f0137bf-ad04-45e7-bafc-545ac2581a5a",
   "metadata": {},
   "outputs": [],
   "source": [
    "def cal_Percor(original,res):\n",
    "    Pearson_CoPearson_Cor = pd.Series(index=original.obs_names)\n",
    "    for i in range(res.X.shape[0]):\n",
    "        Pearson_CoPearson_Cor[i]=st.pearsonr(original.X[i],res.X[i])[0]\n",
    "    Pearson_Cor_mean = np.mean(Pearson_CoPearson_Cor)\n",
    "    return Pearson_CoPearson_Cor,Pearson_Cor_mean\n",
    "our_Percor,our_Percor_mean = cal_Percor(sam,com)\n",
    "print(our_Percor_mean)\n",
    "#0.664"
   ]
  },
  {
   "cell_type": "code",
   "execution_count": null,
   "id": "a90608a7-29ff-4f45-b636-34b78f744de2",
   "metadata": {},
   "outputs": [],
   "source": [
    "def cal_Specor(original,res):\n",
    "    Spearman_CoPearson_Cor = pd.Series(index=original.obs_names)\n",
    "    for i in range(res.X.shape[0]):\n",
    "        Spearman_CoPearson_Cor[i]=st.spearmanr(original.X[i],res.X[i])[0]\n",
    "    Spearman_Cor_mean = np.mean(Spearman_CoPearson_Cor)\n",
    "    return Spearman_CoPearson_Cor,Spearman_Cor_mean\n",
    "our_Specor,our_Specor_mean = cal_Specor(sam,com)\n",
    "print(our_Specor_mean)\n",
    "#0.598"
   ]
  },
  {
   "cell_type": "code",
   "execution_count": null,
   "id": "3064ae9b-2221-4b08-a2fc-266afd99216d",
   "metadata": {},
   "outputs": [],
   "source": [
    "# 进行主成分分析（PCA）\n",
    "com.uns['spatial']=adata.uns['spatial']\n",
    "com.obsm['spatial'] = adata.obsm['spatial']\n",
    "sc.pp.pca(com, svd_solver=\"arpack\")\n",
    "# 绘制主成分方差解释曲线\n",
    "sc.pp.neighbors(com, n_neighbors=10,n_pcs=25)\n",
    "sc.tl.umap(com)\n",
    "sc.tl.leiden(com, key_added=\"leiden_res\", resolution=0.3)\n",
    "sc.pl.umap(\n",
    "    com,\n",
    "    # color=[\"leiden_res0_15\", \"leiden_res0_5\", \"leiden_res0_75\", \"leiden_res1\"],\n",
    "    color=[\"leiden_res\"],\n",
    "    legend_loc=\"on data\",\n",
    ")\n",
    "# sc.pl.spatial(our,img_key='hires',color=[\"leiden_res0_15\", \"leiden_res0_5\", \"leiden_res0_75\", \"leiden_res1\"])\n",
    "sc.pl.spatial(com,img_key='hires',color=[\"leiden_res\"])"
   ]
  },
  {
   "cell_type": "code",
   "execution_count": null,
   "id": "2086e6f9-4f79-4697-8fe2-1dd095138d5c",
   "metadata": {},
   "outputs": [],
   "source": [
    "from sklearn import metrics\n",
    "score1 = metrics.silhouette_score(com.obsm['X_pca'][:,0:25],labels=com.obs['leiden_res'])\n",
    "print(score1)\n",
    "score2 = metrics.silhouette_score(com.obsm['spatial'],labels=com.obs['leiden_res'])\n",
    "print(score2)"
   ]
  }
 ],
 "metadata": {
  "kernelspec": {
   "display_name": "IDDPM",
   "language": "python",
   "name": "iddpm"
  },
  "language_info": {
   "codemirror_mode": {
    "name": "ipython",
    "version": 3
   },
   "file_extension": ".py",
   "mimetype": "text/x-python",
   "name": "python",
   "nbconvert_exporter": "python",
   "pygments_lexer": "ipython3",
   "version": "3.10.0"
  }
 },
 "nbformat": 4,
 "nbformat_minor": 5
}
