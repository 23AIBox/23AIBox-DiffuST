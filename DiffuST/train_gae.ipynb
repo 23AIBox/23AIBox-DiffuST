{
 "cells": [
  {
   "cell_type": "code",
   "execution_count": 1,
   "id": "2c6a67b1-d2da-4343-adf3-e7800d93ecfa",
   "metadata": {},
   "outputs": [
    {
     "name": "stderr",
     "output_type": "stream",
     "text": [
      "/home/sqjiao/.conda/envs/DDPM/lib/python3.10/site-packages/tqdm/auto.py:22: TqdmWarning: IProgress not found. Please update jupyter and ipywidgets. See https://ipywidgets.readthedocs.io/en/stable/user_install.html\n",
      "  from .autonotebook import tqdm as notebook_tqdm\n",
      "/tmp/ipykernel_923019/1927111561.py:15: DeprecationWarning: Please use `csc_matrix` from the `scipy.sparse` namespace, the `scipy.sparse.csc` namespace is deprecated.\n",
      "  from scipy.sparse.csc import csc_matrix\n",
      "/tmp/ipykernel_923019/1927111561.py:16: DeprecationWarning: Please use `csr_matrix` from the `scipy.sparse` namespace, the `scipy.sparse.csr` namespace is deprecated.\n",
      "  from scipy.sparse.csr import csr_matrix\n"
     ]
    }
   ],
   "source": [
    "import math\n",
    "import numpy as np\n",
    "import os\n",
    "import torch\n",
    "import torch.nn as nn\n",
    "import torch.nn.functional as F\n",
    "from torch import optim\n",
    "import anndata\n",
    "import scanpy as sc\n",
    "import scipy.sparse as sp\n",
    "import time\n",
    "import matplotlib.pyplot as plt\n",
    "from sklearn.preprocessing import scale\n",
    "from sklearn.preprocessing import MinMaxScaler\n",
    "from scipy.sparse.csc import csc_matrix\n",
    "from scipy.sparse.csr import csr_matrix\n",
    "import pandas as pd\n",
    "import scipy.stats as st\n",
    "from torchsummary import summary"
   ]
  },
  {
   "cell_type": "code",
   "execution_count": 2,
   "id": "fe299a5e-8e9d-4639-9524-da6fc9bb2c83",
   "metadata": {},
   "outputs": [],
   "source": [
    "from preprocess import construct_interaction,construct_interaction_KNN,preprocess,get_feature,preprocess_adj_sparse,preprocess_adj,mask_nodes_edges\n",
    "from gae.model import GCNModelVAE_FC\n",
    "from gae.lossfuc import loss_kl,loss_zinb,loss_CE,loss_nb"
   ]
  },
  {
   "cell_type": "code",
   "execution_count": 3,
   "id": "eb11cf7d-5b7b-4601-bbd2-53c47f45edd1",
   "metadata": {},
   "outputs": [],
   "source": [
    "# Settings\n",
    "device = torch.device(\"cuda:2\") if torch.cuda.is_available() else torch.device(\"cpu\")#this should be set to the GPU device you would like to use on your machine\n",
    "use_cuda=True #set to true if GPU is used \n",
    "# seed=3 #random seed\n",
    "# testNodes=0.1 #fraction of total cells used for testing\n",
    "# valNodes=0.05 #fraction of total cells used for validation\n",
    "useSavedMaskedEdges=True #some edges of the adjacency matrices are held-out for validation; set to True to save and use saved version of the edge masks\n",
    "####1600########\n",
    "epochs=2000 #number of training epochs\n",
    "####1600########\n",
    "saveFreq=200 #the model parameters will be saved during training at a frequency defined by this parameter\n",
    "lr=0.001 #initial learning rate\n",
    "weight_decay=0 #regularization term\n",
    "\n",
    "hidden1=512 #Number of units in hidden layer 1\n",
    "hidden2=128 #Number of units in hidden layer 2\n",
    "fc_dim1=512 #Number of units in the fully connected layer of the decoder\n",
    "\n",
    "dropout=0.01 #neural network dropout term\n",
    "#human_ovarian_cancer_target\n",
    "XreconWeight=10  #reconstruction weight of the gene expression\n",
    "#osmFISH\n",
    "# XreconWeight=1  #reconstruction weight of the gene expression\n",
    "#15\n",
    "\n",
    "# XreconWeight=20\n",
    "advWeight=2 # weight of the adversarial loss, if used\n",
    "ridgeL=0.01 #regularization weight of the gene dropout parameter\n",
    "# ridgeL=5 #regularization weight of the gene dropout parameter\n",
    "#5\n",
    "training_sample_X='logminmax' #specify the normalization method for the gene expression input. 'logminmax' is the default that log transforms and min-max scales the expression. 'corrected' uses the z-score normalized and ComBat corrected data from Hu et al. 'scaled' uses the same normalization as 'corrected'.\n",
    "switchFreq=10 #the number of epochs spent on training the model using one sample, before switching to the next sample\n",
    "name='get_gae_feature' #name of the model\n",
    "\n",
    "#provide the paths to save the training log, trained models, and plots, and the path to the directory where the data is stored\n",
    "#human_ovarian_cancer_target\n",
    "# logsavepath='./logs/train_gae_human_ovarian_cancer/'+name\n",
    "# modelsavepath='./models/train_gae_human_ovarian_cancer/'+name\n",
    "# plotsavepath='./plots/train_gae_human_ovarian_cancer/'+name\n",
    "#osmFISH\n",
    "# logsavepath='./logs/train_gae_human_ovarian_cancer/'+name\n",
    "# modelsavepath='./models/train_gae_human_ovarian_cancer/'+name\n",
    "# plotsavepath='./plots/train_gae_human_ovarian_cancer/'+name\n",
    "\n",
    "# logsavepath='./logs/mouse_N06/'+name\n",
    "# modelsavepath='./models/mouse_N06/'+name\n",
    "# plotsavepath='./plots/mouse_N06/'+name\n",
    "\n",
    "datatype='10x'"
   ]
  },
  {
   "cell_type": "code",
   "execution_count": 5,
   "id": "b0ce168e-f870-433c-861f-cfd0fb7dd902",
   "metadata": {},
   "outputs": [],
   "source": [
    "#human_ovarian_cancer_target\n",
    "# adata = sc.read_visium('../data/human_ovarian_cancer_target',\n",
    "#            count_file='Targeted_Visium_Human_OvarianCancer_Pan_Cancer_filtered_feature_bc_matrix.h5'\n",
    "#            ,source_image_path='Targeted_Visium_Human_OvarianCancer_Pan_Cancer_image.tif'\n",
    "#                       )\n",
    "# #osmFISH\n",
    "# # adata = sc.read_h5ad('../Spatial/Starmap/STARmap_Wang2018Three_1k_mouse_brain_STARmap_data.h5ad')\n",
    "# adata.var_names_make_unique()"
   ]
  },
  {
   "cell_type": "code",
   "execution_count": 4,
   "id": "a3054491-d8ae-4b60-8444-716dc1b0634c",
   "metadata": {},
   "outputs": [
    {
     "name": "stderr",
     "output_type": "stream",
     "text": [
      "/home/sqjiao/.conda/envs/DDPM/lib/python3.10/site-packages/anndata/_core/anndata.py:1900: UserWarning: Variable names are not unique. To make them unique, call `.var_names_make_unique`.\n",
      "  utils.warn_names_duplicates(\"var\")\n",
      "/home/sqjiao/.conda/envs/DDPM/lib/python3.10/site-packages/anndata/_core/anndata.py:1900: UserWarning: Variable names are not unique. To make them unique, call `.var_names_make_unique`.\n",
      "  utils.warn_names_duplicates(\"var\")\n"
     ]
    }
   ],
   "source": [
    "#实验1\n",
    "adata = sc.read_visium('../data/human_breast_cancer',\n",
    "           count_file='V1_Breast_Cancer_Block_A_Section_1_filtered_feature_bc_matrix.h5'\n",
    "           ,source_image_path='V1_Breast_Cancer_Block_A_Section_1_image.tif'\n",
    "                      )\n",
    "adata.var_names_make_unique()\n",
    "\n",
    "\n"
   ]
  },
  {
   "cell_type": "code",
   "execution_count": 5,
   "id": "d430ed98-759f-46be-8c54-b3a949af05a5",
   "metadata": {},
   "outputs": [
    {
     "name": "stdout",
     "output_type": "stream",
     "text": [
      "(3798, 36601)\n",
      "[[  668 25440]\n",
      " [ 2618 13732]\n",
      " [   74 34661]\n",
      " ...\n",
      " [ 3717 24205]\n",
      " [ 2882 15882]\n",
      " [  487 22100]] (10676164, 2)\n"
     ]
    }
   ],
   "source": [
    "print(adata.X.shape)\n",
    "np.random.seed(42)\n",
    "\n",
    "matrix  = adata.X.toarray()\n",
    "nonzero_indices = np.transpose(np.nonzero(matrix))\n",
    "num_elements_to_zero = int(len(nonzero_indices) * 0.5)\n",
    "selected_indices = nonzero_indices[np.random.choice(len(nonzero_indices), num_elements_to_zero, replace=False)]\n",
    "for index in selected_indices:\n",
    "        matrix[tuple(index)] = 0\n",
    "adata.X = matrix\n",
    "print(selected_indices,selected_indices.shape)"
   ]
  },
  {
   "cell_type": "code",
   "execution_count": 8,
   "id": "623c4342-4c77-4ecd-8042-d3228f4453b3",
   "metadata": {},
   "outputs": [],
   "source": [
    "# adata = sc.read_visium('../data/human_colorectal_cancer/',\n",
    "#            count_file='Targeted_Visium_Human_ColorectalCancer_GeneSignature_filtered_feature_bc_matrix.h5'\n",
    "#            ,source_image_path='Targeted_Visium_Human_ColorectalCancer_GeneSignature_image.tif'\n",
    "#                       )\n",
    "# adata.var_names_make_unique()"
   ]
  },
  {
   "cell_type": "markdown",
   "id": "0d830c09-23dd-4a50-b079-ddca2c047b9a",
   "metadata": {},
   "source": [
    "# mouse"
   ]
  },
  {
   "cell_type": "code",
   "execution_count": 9,
   "id": "f69bd201-e6b7-4421-ad5e-9fe071a6c2c3",
   "metadata": {},
   "outputs": [],
   "source": [
    "# data_path = '../data/mouse'\n",
    "# count_file = 'N06_D2.h5ad'\n",
    "# source_image_path = 'N06_D2__HE.png'\n",
    "# adata = sc.read_h5ad(os.path.join(data_path,count_file))\n",
    "# adata.obsm['spatial']=adata.obs[['img_coord_X','img_coord_Y']].values.astype(np.int)"
   ]
  },
  {
   "cell_type": "markdown",
   "id": "08695b38-40d8-4d4c-bf03-dd9f220a1c01",
   "metadata": {},
   "source": [
    "## 构造图的领接矩阵时，k是影响因素，需要调"
   ]
  },
  {
   "cell_type": "code",
   "execution_count": 6,
   "id": "001ea159-88ff-4a47-a815-2ef00b36a01e",
   "metadata": {},
   "outputs": [
    {
     "name": "stderr",
     "output_type": "stream",
     "text": [
      "/home/sqjiao/.conda/envs/DDPM/lib/python3.10/site-packages/scanpy/preprocessing/_highly_variable_genes.py:61: UserWarning: `flavor='seurat_v3'` expects raw count data, but non-integers were found.\n",
      "  warnings.warn(\n"
     ]
    },
    {
     "name": "stdout",
     "output_type": "stream",
     "text": [
      "Graph constructed!\n"
     ]
    }
   ],
   "source": [
    "#preprocess data\n",
    "if 'highly_variable' not in adata.var.keys():\n",
    "    preprocess(adata)\n",
    "\n",
    "if 'adj' not in adata.obsm.keys():\n",
    "    if datatype in ['Stereo', 'Slide']:\n",
    "        construct_interaction_KNN(adata)\n",
    "    else:    \n",
    "      # construct_interaction(adata)\n",
    "        construct_interaction_KNN(adata)\n",
    "\n",
    "if 'feat' not in adata.obsm.keys():\n",
    "    get_feature(adata)\n"
   ]
  },
  {
   "cell_type": "code",
   "execution_count": 7,
   "id": "6f3031d7-9bdd-44b3-ad36-c37489a4e8bf",
   "metadata": {},
   "outputs": [],
   "source": [
    "# matrix  = adata.obsm['feat'].toarray()\n",
    "# total_elements = matrix.size\n",
    "# num_elements_to_zero = int(total_elements * 0.60)\n",
    "\n",
    "# # 随机选择需要置为0的元素的索引\n",
    "# indices = np.unravel_index(np.random.choice(total_elements, num_elements_to_zero, replace=False), matrix.shape)\n",
    "\n",
    "# # 将选择的元素置为0\n",
    "# matrix[indices] = 0\n",
    "# adata.obsm['feat'] = matrix\n"
   ]
  },
  {
   "cell_type": "code",
   "execution_count": 7,
   "id": "e8927aea-a57b-4a8d-b6df-53a3158126db",
   "metadata": {},
   "outputs": [],
   "source": [
    "#graph feature\n",
    "features = torch.tensor(adata.obsm['feat'].copy()).to(device)\n",
    "adj = adata.obsm['adj']\n",
    "graph_neigh = torch.tensor(adata.obsm['graph_neigh'].copy() + np.eye(adj.shape[0])).to(device)\n",
    "\n",
    "dim_input = features.shape[1]\n",
    "dim_output = hidden2\n",
    "\n",
    "#get adj\n",
    "if datatype in ['Stereo', 'Slide']:\n",
    "    #using sparse\n",
    "    print('Building sparse matrix ...')\n",
    "    adj_norm = preprocess_adj_sparse(adj).to(device)\n",
    "    pos_weight = torch.tensor(float(adj.shape[0] * adj.shape[0] - adj.sum()) / adj.sum())\n",
    "    norm = torch.tensor(adj.shape[0] * adj.shape[0] / float((adj.shape[0] * adj.shape[0] - adj.sum()) * 2))\n",
    "    adj = torch.tensor(adj+ sp.eye(adj.shape[0])).to(device)\n",
    "else: \n",
    "    # standard version\n",
    "    # adj_norm = preprocess_adj(adj)\n",
    "    # adj_norm = torch.FloatTensor(adj_norm).to(device)\n",
    "    adj_norm = preprocess_adj_sparse(adj).to(device)\n",
    "    pos_weight = torch.tensor(float(adj.shape[0] * adj.shape[0] - adj.sum()) / adj.sum())\n",
    "    norm = torch.tensor(adj.shape[0] * adj.shape[0] / float((adj.shape[0] * adj.shape[0] - adj.sum()) * 2))\n",
    "    adj = torch.tensor(adj+ sp.eye(adj.shape[0])).to(device)\n"
   ]
  },
  {
   "cell_type": "code",
   "execution_count": 12,
   "id": "8ece0e94-0c41-409d-93db-a7a465446fe3",
   "metadata": {},
   "outputs": [],
   "source": [
    "# if not os.path.exists(logsavepath):\n",
    "#     os.mkdir(logsavepath)\n",
    "# if not os.path.exists(modelsavepath):\n",
    "#     os.mkdir(modelsavepath)\n",
    "# if not os.path.exists(plotsavepath):\n",
    "#     os.mkdir(plotsavepath)"
   ]
  },
  {
   "cell_type": "code",
   "execution_count": 8,
   "id": "8eaceb4f-4a5c-4bb3-89e8-4999cf58f038",
   "metadata": {},
   "outputs": [],
   "source": [
    "num_features = features.shape[1]\n",
    "model = GCNModelVAE_FC(num_features, hidden1,hidden2,fc_dim1, dropout).to(device)\n",
    "optimizer = optim.Adam(model.parameters(), lr=lr, weight_decay=weight_decay)"
   ]
  },
  {
   "cell_type": "markdown",
   "id": "96cf36cf-a4a6-4ae2-84fb-822d3ebd5d15",
   "metadata": {},
   "source": [
    "## 是否要加lossA"
   ]
  },
  {
   "cell_type": "code",
   "execution_count": 9,
   "id": "55b160a0-79d6-4ae6-a23a-1e0410b555ba",
   "metadata": {},
   "outputs": [],
   "source": [
    "def train(epochs):\n",
    "    train_loss_ep=[None]*epochs\n",
    "    train_loss_kl_ep=[None]*epochs\n",
    "    train_loss_x_ep=[None]*epochs\n",
    "    train_loss_a_ep=[None]*epochs\n",
    "    for epoch in range(epochs):\n",
    "        # maskedgeres= mask_nodes_edges(features.shape[0],testNodeSize=testNodes,valNodeSize=valNodes,seed=seed)\n",
    "        # train_nodes_idx,val_nodes_idx,test_nodes_idx = maskedgeres\n",
    "        \n",
    "        t = time.time()\n",
    "        model.train()\n",
    "        optimizer.zero_grad()\n",
    "        \n",
    "        \n",
    "\n",
    "        adj_recon,mu,logvar,z,features_recon = model(features, adj_norm)\n",
    "        loss_kl_train=loss_kl(mu, logvar)\n",
    "        loss_x_train=loss_zinb(features_recon, features,XreconWeight,ridgeL)\n",
    "        loss_function = nn.MSELoss()\n",
    "        loss_r_train=loss_function(features_recon[3], features)\n",
    "        # loss_x_train = loss_nb(features_recon, features,XreconWeight)\n",
    "        loss_a_train=loss_CE(adj_recon, adj, pos_weight, norm)\n",
    "\n",
    "        loss=loss_kl_train+loss_x_train+loss_r_train\n",
    "        # loss=loss_x_train+loss_r_train\n",
    "        # loss = loss_kl_train+loss_x_train+loss_a_train\n",
    "        loss.backward()\n",
    "        optimizer.step()\n",
    "        train_loss_ep[epoch],train_loss_kl_ep[epoch],train_loss_x_ep[epoch],train_loss_a_ep[epoch]=loss.item(),loss_kl_train.item(),loss_x_train.item(),loss_a_train.item()\n",
    "        if epoch%saveFreq == 0:\n",
    "            print(' Epoch: {:04d}'.format(epoch),\n",
    "                  'loss_train: {:.4f}'.format(loss.item()),\n",
    "                  'loss_kl_train: {:.4f}'.format(loss_kl_train.item()),\n",
    "                  'loss_x_train: {:.4f}'.format(loss_x_train.item()),\n",
    "                  'loss_a_train: {:.4f}'.format(loss_a_train.item()),\n",
    "                  'time: {:.4f}s'.format(time.time() - t))\n",
    "\n",
    "            sam = adata.obsm['feat']\n",
    "            com = features_recon[3].detach().cpu().numpy()\n",
    "            sam = anndata.AnnData(sam,var = adata[:,adata.var['highly_variable']].var)\n",
    "            com = anndata.AnnData(com)\n",
    "            def cal_Percor(original,res):\n",
    "                Pearson_CoPearson_Cor = pd.Series(index=original.var_names)\n",
    "                for i in range(res.X.shape[1]):\n",
    "                    Pearson_CoPearson_Cor[i]=st.pearsonr(original.X[i],res.X[i])[0]\n",
    "                Pearson_Cor_mean = np.mean(Pearson_CoPearson_Cor)\n",
    "                return Pearson_CoPearson_Cor,Pearson_Cor_mean\n",
    "            our_Percor,our_Percor_mean = cal_Percor(sam,com)\n",
    "\n",
    "            print(our_Percor_mean)\n",
    "#         if our_Percor_mean>0.72:\n",
    "#             break\n",
    "#         if epoch%saveFreq == 0:\n",
    "#             torch.save(model.cpu().state_dict(), os.path.join(modelsavepath,str(epoch)+'.pt'))\n",
    "    # with torch.no_grad():\n",
    "    # torch.save(model.cpu().state_dict(), os.path.join(modelsavepath,'gae.pt'))\n",
    "    model.to(device).eval()\n",
    "\n",
    "    adj_recon,mu,logvar,z, features_recon = model(features, adj_norm)\n",
    "\n",
    "    return train_loss_ep,train_loss_kl_ep,train_loss_x_ep,train_loss_a_ep,z, features_recon"
   ]
  },
  {
   "cell_type": "code",
   "execution_count": 10,
   "id": "f8b15de4-fc65-404d-85d7-c84d227a38fa",
   "metadata": {},
   "outputs": [
    {
     "name": "stdout",
     "output_type": "stream",
     "text": [
      " Epoch: 0000 loss_train: 5.2840 loss_kl_train: 0.0002 loss_x_train: 4.3238 loss_a_train: 4.9817 time: 1.2625s\n"
     ]
    },
    {
     "name": "stderr",
     "output_type": "stream",
     "text": [
      "/tmp/ipykernel_923019/1318954763.py:45: FutureWarning: Series.__setitem__ treating keys as positions is deprecated. In a future version, integer keys will always be treated as labels (consistent with DataFrame behavior). To set a value by position, use `ser.iloc[pos] = value`\n",
      "  Pearson_CoPearson_Cor[i]=st.pearsonr(original.X[i],res.X[i])[0]\n"
     ]
    },
    {
     "name": "stdout",
     "output_type": "stream",
     "text": [
      "-0.014381331139667563\n",
      " Epoch: 0200 loss_train: 1.1283 loss_kl_train: 0.0064 loss_x_train: 1.1136 loss_a_train: 20.5918 time: 0.0495s\n"
     ]
    },
    {
     "name": "stderr",
     "output_type": "stream",
     "text": [
      "/tmp/ipykernel_923019/1318954763.py:45: FutureWarning: Series.__setitem__ treating keys as positions is deprecated. In a future version, integer keys will always be treated as labels (consistent with DataFrame behavior). To set a value by position, use `ser.iloc[pos] = value`\n",
      "  Pearson_CoPearson_Cor[i]=st.pearsonr(original.X[i],res.X[i])[0]\n"
     ]
    },
    {
     "name": "stdout",
     "output_type": "stream",
     "text": [
      "0.5468240154220678\n",
      " Epoch: 0400 loss_train: 1.1170 loss_kl_train: 0.0053 loss_x_train: 1.1035 loss_a_train: 16.1485 time: 0.0513s\n"
     ]
    },
    {
     "name": "stderr",
     "output_type": "stream",
     "text": [
      "/tmp/ipykernel_923019/1318954763.py:45: FutureWarning: Series.__setitem__ treating keys as positions is deprecated. In a future version, integer keys will always be treated as labels (consistent with DataFrame behavior). To set a value by position, use `ser.iloc[pos] = value`\n",
      "  Pearson_CoPearson_Cor[i]=st.pearsonr(original.X[i],res.X[i])[0]\n"
     ]
    },
    {
     "name": "stdout",
     "output_type": "stream",
     "text": [
      "0.5508542606031668\n",
      " Epoch: 0600 loss_train: 1.1118 loss_kl_train: 0.0048 loss_x_train: 1.0989 loss_a_train: 13.6734 time: 0.0502s\n"
     ]
    },
    {
     "name": "stderr",
     "output_type": "stream",
     "text": [
      "/tmp/ipykernel_923019/1318954763.py:45: FutureWarning: Series.__setitem__ treating keys as positions is deprecated. In a future version, integer keys will always be treated as labels (consistent with DataFrame behavior). To set a value by position, use `ser.iloc[pos] = value`\n",
      "  Pearson_CoPearson_Cor[i]=st.pearsonr(original.X[i],res.X[i])[0]\n"
     ]
    },
    {
     "name": "stdout",
     "output_type": "stream",
     "text": [
      "0.5534315079757485\n",
      " Epoch: 0800 loss_train: 1.1084 loss_kl_train: 0.0044 loss_x_train: 1.0959 loss_a_train: 11.4161 time: 0.0509s\n"
     ]
    },
    {
     "name": "stderr",
     "output_type": "stream",
     "text": [
      "/tmp/ipykernel_923019/1318954763.py:45: FutureWarning: Series.__setitem__ treating keys as positions is deprecated. In a future version, integer keys will always be treated as labels (consistent with DataFrame behavior). To set a value by position, use `ser.iloc[pos] = value`\n",
      "  Pearson_CoPearson_Cor[i]=st.pearsonr(original.X[i],res.X[i])[0]\n"
     ]
    },
    {
     "name": "stdout",
     "output_type": "stream",
     "text": [
      "0.5553574472590669\n",
      " Epoch: 1000 loss_train: 1.1055 loss_kl_train: 0.0042 loss_x_train: 1.0932 loss_a_train: 10.2964 time: 0.0550s\n"
     ]
    },
    {
     "name": "stderr",
     "output_type": "stream",
     "text": [
      "/tmp/ipykernel_923019/1318954763.py:45: FutureWarning: Series.__setitem__ treating keys as positions is deprecated. In a future version, integer keys will always be treated as labels (consistent with DataFrame behavior). To set a value by position, use `ser.iloc[pos] = value`\n",
      "  Pearson_CoPearson_Cor[i]=st.pearsonr(original.X[i],res.X[i])[0]\n"
     ]
    },
    {
     "name": "stdout",
     "output_type": "stream",
     "text": [
      "0.557261719331663\n",
      " Epoch: 1200 loss_train: 1.1035 loss_kl_train: 0.0042 loss_x_train: 1.0913 loss_a_train: 9.2456 time: 0.0501s\n"
     ]
    },
    {
     "name": "stderr",
     "output_type": "stream",
     "text": [
      "/tmp/ipykernel_923019/1318954763.py:45: FutureWarning: Series.__setitem__ treating keys as positions is deprecated. In a future version, integer keys will always be treated as labels (consistent with DataFrame behavior). To set a value by position, use `ser.iloc[pos] = value`\n",
      "  Pearson_CoPearson_Cor[i]=st.pearsonr(original.X[i],res.X[i])[0]\n"
     ]
    },
    {
     "name": "stdout",
     "output_type": "stream",
     "text": [
      "0.5590477089358715\n",
      " Epoch: 1400 loss_train: 1.1009 loss_kl_train: 0.0044 loss_x_train: 1.0886 loss_a_train: 9.0144 time: 0.0502s\n"
     ]
    },
    {
     "name": "stderr",
     "output_type": "stream",
     "text": [
      "/tmp/ipykernel_923019/1318954763.py:45: FutureWarning: Series.__setitem__ treating keys as positions is deprecated. In a future version, integer keys will always be treated as labels (consistent with DataFrame behavior). To set a value by position, use `ser.iloc[pos] = value`\n",
      "  Pearson_CoPearson_Cor[i]=st.pearsonr(original.X[i],res.X[i])[0]\n"
     ]
    },
    {
     "name": "stdout",
     "output_type": "stream",
     "text": [
      "0.5610364460041238\n",
      " Epoch: 1600 loss_train: 1.0981 loss_kl_train: 0.0044 loss_x_train: 1.0858 loss_a_train: 8.3574 time: 0.0500s\n"
     ]
    },
    {
     "name": "stderr",
     "output_type": "stream",
     "text": [
      "/tmp/ipykernel_923019/1318954763.py:45: FutureWarning: Series.__setitem__ treating keys as positions is deprecated. In a future version, integer keys will always be treated as labels (consistent with DataFrame behavior). To set a value by position, use `ser.iloc[pos] = value`\n",
      "  Pearson_CoPearson_Cor[i]=st.pearsonr(original.X[i],res.X[i])[0]\n"
     ]
    },
    {
     "name": "stdout",
     "output_type": "stream",
     "text": [
      "0.5632231486835553\n",
      " Epoch: 1800 loss_train: 1.0960 loss_kl_train: 0.0045 loss_x_train: 1.0835 loss_a_train: 8.0347 time: 0.0504s\n"
     ]
    },
    {
     "name": "stderr",
     "output_type": "stream",
     "text": [
      "/tmp/ipykernel_923019/1318954763.py:45: FutureWarning: Series.__setitem__ treating keys as positions is deprecated. In a future version, integer keys will always be treated as labels (consistent with DataFrame behavior). To set a value by position, use `ser.iloc[pos] = value`\n",
      "  Pearson_CoPearson_Cor[i]=st.pearsonr(original.X[i],res.X[i])[0]\n"
     ]
    },
    {
     "name": "stdout",
     "output_type": "stream",
     "text": [
      "0.5650276665679116\n",
      " total time: 137.8011s\n"
     ]
    }
   ],
   "source": [
    "t_ep=time.time()\n",
    "train_loss_ep,train_loss_kl_ep,train_loss_x_ep,train_loss_a_ep,z, features_recon=train(epochs)\n",
    "print(' total time: {:.4f}s'.format(time.time() - t_ep))"
   ]
  },
  {
   "cell_type": "code",
   "execution_count": 16,
   "id": "b781b3bc-ed94-4be0-a400-931cf2f6b3b6",
   "metadata": {},
   "outputs": [],
   "source": [
    "# torch.save(train_loss_ep,os.path.join(logsavepath,'train_loss'))\n",
    "# torch.save(train_loss_kl_ep,os.path.join(logsavepath,'train_loss_kl'))\n",
    "# torch.save(train_loss_x_ep,os.path.join(logsavepath,'train_loss_x'))\n",
    "# torch.save(train_loss_a_ep,os.path.join(logsavepath,'train_loss_a'))"
   ]
  },
  {
   "cell_type": "code",
   "execution_count": 11,
   "id": "e700b021-0c51-49b0-81be-df8a000be81d",
   "metadata": {},
   "outputs": [],
   "source": [
    "name = 'get_gae_feature'\n",
    "modelsavepath='./models/human_breast_cancer/'+name\n",
    "torch.save(model.cpu().state_dict(), os.path.join(modelsavepath,'breast_gae_drop_new050.ckpt'))"
   ]
  },
  {
   "cell_type": "code",
   "execution_count": null,
   "id": "5beaf01c-f17d-45da-a471-6b81e237a069",
   "metadata": {},
   "outputs": [],
   "source": [
    "# plt.plot(np.arange(epochs),train_loss_x_ep)\n",
    "# plt.plot(np.arange(epochs),train_loss_a_ep)\n",
    "# plt.plot(np.arange(epochs),train_loss_kl_ep)\n",
    "# plt.legend(['training x recon loss','training a recon loss','training kl loss'],loc='upper right')\n",
    "# # plt.savefig(os.path.join(plotsavepath,'loss_seed3.jpg'))\n",
    "# plt.show()"
   ]
  },
  {
   "cell_type": "code",
   "execution_count": 12,
   "id": "4846b9cc-1318-4fad-97b2-ec79d81fa609",
   "metadata": {},
   "outputs": [],
   "source": [
    "sam = adata.obsm['feat']"
   ]
  },
  {
   "cell_type": "code",
   "execution_count": 13,
   "id": "48c2c932-e7c9-4aec-9c76-36d1827f23ac",
   "metadata": {},
   "outputs": [],
   "source": [
    "com = features_recon[3].detach().cpu().numpy() "
   ]
  },
  {
   "cell_type": "code",
   "execution_count": 19,
   "id": "f3f05b67-cfe5-4967-9524-e69dc39af4bc",
   "metadata": {},
   "outputs": [],
   "source": [
    "# plt.style.use('dark_background')\n",
    "# for i in range(20):\n",
    "#     fig, (ax1, ax2) = plt.subplots(1, 2,figsize=(8,4))\n",
    "#     ax1.axis('off')\n",
    "#     cmap = sam[:,i]\n",
    "#     cmap[cmap > np.percentile(cmap,99)] = np.percentile(cmap,99)\n",
    "#     ax1.scatter(adata.obsm['spatial'][:,0],adata.obsm['spatial'][:,1],s=1,c=cmap)\n",
    "#     ax1.set_title('Measured ', fontsize = 12)\n",
    "#     ax1.set_ylabel(i)\n",
    "#     ax1.invert_yaxis()\n",
    "#     # ax1.invert_xaxis()\n",
    "#     ax2.axis('off')\n",
    "#     cmap = com[:,i]\n",
    "#     cmap[cmap > np.percentile(cmap,99)] = np.percentile(cmap,99)\n",
    "#     ax2.scatter(adata.obsm['spatial'][:,0],adata.obsm['spatial'][:,1],s=1,c=cmap)\n",
    "#     ax2.set_title('Predicted ', fontsize = 12)\n",
    "#     ax2.invert_yaxis()\n",
    "#     # ax2.invert_xaxis()"
   ]
  },
  {
   "cell_type": "code",
   "execution_count": 14,
   "id": "203c31d3-a87a-40fc-9596-8b209f50cb6b",
   "metadata": {},
   "outputs": [],
   "source": [
    "sam = anndata.AnnData(sam,var = adata[:,adata.var['highly_variable']].var)\n",
    "com = anndata.AnnData(com)"
   ]
  },
  {
   "cell_type": "code",
   "execution_count": null,
   "id": "1596dd56-d037-448e-83bc-0fe47cce2953",
   "metadata": {},
   "outputs": [],
   "source": []
  },
  {
   "cell_type": "code",
   "execution_count": 21,
   "id": "5904b1f3-9ce7-4cd2-9ee3-3c55a4879bdc",
   "metadata": {},
   "outputs": [],
   "source": [
    "# import pandas as pd\n",
    "# import scipy.stats as st\n",
    "\n",
    "# def cal_Percor(original,res):\n",
    "#     Pearson_CoPearson_Cor = pd.Series(index=original.var_names)\n",
    "    \n",
    "#     for i in range(res.X.shape[1]):\n",
    "#         Pearson_CoPearson_Cor[i]=st.pearsonr(original.X.T[i],res.X.T[i])[0]\n",
    "#     Pearson_Cor_mean = np.mean(Pearson_CoPearson_Cor)\n",
    "#     return Pearson_CoPearson_Cor,Pearson_Cor_mean\n",
    "# our_Percor,our_Percor_mean = cal_Percor(sam,com)\n",
    "# print(our_Percor_mean)\n",
    "# #0.3171313503053768\n",
    "# #0.34746957606266593\n",
    "# #0.408"
   ]
  },
  {
   "cell_type": "code",
   "execution_count": 15,
   "id": "98b7c3ba-1d0d-4cc5-94f2-910e4fa55744",
   "metadata": {},
   "outputs": [
    {
     "name": "stderr",
     "output_type": "stream",
     "text": [
      "/tmp/ipykernel_923019/448874403.py:4: FutureWarning: Series.__setitem__ treating keys as positions is deprecated. In a future version, integer keys will always be treated as labels (consistent with DataFrame behavior). To set a value by position, use `ser.iloc[pos] = value`\n",
      "  Pearson_CoPearson_Cor[i]=st.pearsonr(original.X[i],res.X[i])[0]\n"
     ]
    },
    {
     "name": "stdout",
     "output_type": "stream",
     "text": [
      "0.570350098308893\n"
     ]
    }
   ],
   "source": [
    "def cal_Percor(original,res):\n",
    "    Pearson_CoPearson_Cor = pd.Series(index=original.var_names)\n",
    "    for i in range(res.X.shape[1]):\n",
    "        Pearson_CoPearson_Cor[i]=st.pearsonr(original.X[i],res.X[i])[0]\n",
    "    Pearson_Cor_mean = np.mean(Pearson_CoPearson_Cor)\n",
    "    return Pearson_CoPearson_Cor,Pearson_Cor_mean\n",
    "our_Percor,our_Percor_mean = cal_Percor(sam,com)\n",
    "print(our_Percor_mean)\n",
    "#0.664"
   ]
  },
  {
   "cell_type": "code",
   "execution_count": 23,
   "id": "0de6fb0a-2a0b-43c9-ad26-9adc91001d02",
   "metadata": {},
   "outputs": [],
   "source": [
    "# def cal_Specor(original,res):\n",
    "#     Spearman_CoPearson_Cor = pd.Series(index=original.var_names)\n",
    "#     for i in range(res.X.shape[1]):\n",
    "#         Spearman_CoPearson_Cor[i]=st.spearmanr(original.X[i],res.X[i])[0]\n",
    "#     Spearman_Cor_mean = np.mean(Spearman_CoPearson_Cor)\n",
    "#     return Spearman_CoPearson_Cor,Spearman_Cor_mean\n",
    "# our_Specor,our_Specor_mean = cal_Specor(sam,com)\n",
    "# print(our_Specor_mean)\n",
    "# #0.598"
   ]
  },
  {
   "cell_type": "code",
   "execution_count": 15,
   "id": "d9778e6a-3900-4ef5-98da-3578ad226811",
   "metadata": {},
   "outputs": [],
   "source": [
    "# # 进行主成分分析（PCA）\n",
    "# com.uns['spatial']=adata.uns['spatial']\n",
    "# com.obsm['spatial'] = adata.obsm['spatial']\n",
    "# sc.pp.pca(com, svd_solver=\"arpack\")\n",
    "# # 绘制主成分方差解释曲线\n",
    "# sc.pp.neighbors(com, n_neighbors=10,n_pcs=30)\n",
    "# sc.tl.umap(com)\n",
    "# sc.tl.leiden(com, key_added=\"leiden_res\", resolution=0.25)\n",
    "# sc.pl.umap(\n",
    "#     com,\n",
    "#     # color=[\"leiden_res0_15\", \"leiden_res0_5\", \"leiden_res0_75\", \"leiden_res1\"],\n",
    "#     color=[\"leiden_res\"],\n",
    "#     legend_loc=\"on data\",\n",
    "# )\n",
    "# # sc.pl.spatial(our,img_key='hires',color=[\"leiden_res0_15\", \"leiden_res0_5\", \"leiden_res0_75\", \"leiden_res1\"])\n",
    "# sc.pl.spatial(com,img_key='hires',color=[\"leiden_res\"])"
   ]
  },
  {
   "cell_type": "code",
   "execution_count": 27,
   "id": "f5cbb7c5-f42f-444a-9264-b7d148f5c624",
   "metadata": {},
   "outputs": [
    {
     "name": "stdout",
     "output_type": "stream",
     "text": [
      "0.19248872\n",
      "0.15438679715376752\n"
     ]
    }
   ],
   "source": [
    "# from sklearn import metrics\n",
    "# score1 = metrics.silhouette_score(com.obsm['X_pca'][:,0:25],labels=com.obs['leiden_res'])\n",
    "# print(score1)\n",
    "# score2 = metrics.silhouette_score(com.obsm['spatial'],labels=com.obs['leiden_res'])\n",
    "# print(score2)"
   ]
  },
  {
   "cell_type": "code",
   "execution_count": 16,
   "id": "9ff2fe55-ee5b-492b-9253-442c009a5c53",
   "metadata": {},
   "outputs": [],
   "source": [
    "result = anndata.AnnData(com)\n",
    "result.write(os.path.join(\"./outputs/human_breast_cancer\", f\"ourfuc_drop_new050.h5ad\"))"
   ]
  }
 ],
 "metadata": {
  "kernelspec": {
   "display_name": "DDPM",
   "language": "python",
   "name": "ddpm"
  },
  "language_info": {
   "codemirror_mode": {
    "name": "ipython",
    "version": 3
   },
   "file_extension": ".py",
   "mimetype": "text/x-python",
   "name": "python",
   "nbconvert_exporter": "python",
   "pygments_lexer": "ipython3",
   "version": "3.10.6"
  }
 },
 "nbformat": 4,
 "nbformat_minor": 5
}
